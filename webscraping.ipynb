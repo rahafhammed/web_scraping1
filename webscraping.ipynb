{
 "cells": [
  {
   "cell_type": "markdown",
   "id": "4446f237",
   "metadata": {},
   "source": [
    "import libraries"
   ]
  },
  {
   "cell_type": "code",
   "execution_count": 1,
   "id": "c1c87b9e",
   "metadata": {},
   "outputs": [],
   "source": [
    "from bs4 import BeautifulSoup as bs\n",
    "from urllib.request import urlopen\n",
    "import pandas as pd"
   ]
  },
  {
   "cell_type": "markdown",
   "id": "68299a9f",
   "metadata": {},
   "source": [
    "inputing the url "
   ]
  },
  {
   "cell_type": "code",
   "execution_count": 2,
   "id": "9c689d6a",
   "metadata": {},
   "outputs": [],
   "source": [
    "url = \"https://mostaql.com/projects\""
   ]
  },
  {
   "cell_type": "markdown",
   "id": "d82fb0cb",
   "metadata": {},
   "source": [
    "creating a client-based request to get the url \n"
   ]
  },
  {
   "cell_type": "code",
   "execution_count": 3,
   "id": "4432020d",
   "metadata": {},
   "outputs": [],
   "source": [
    "req = urlopen (url)"
   ]
  },
  {
   "cell_type": "markdown",
   "id": "86319347",
   "metadata": {},
   "source": [
    "Getting HTML code of full page"
   ]
  },
  {
   "cell_type": "code",
   "execution_count": 4,
   "id": "2aa3cb37",
   "metadata": {},
   "outputs": [],
   "source": [
    "html = req.read()\n",
    "req.close()"
   ]
  },
  {
   "cell_type": "markdown",
   "id": "a3d04cb4",
   "metadata": {},
   "source": [
    "Creating an HTML parser using BeautifulSoup"
   ]
  },
  {
   "cell_type": "code",
   "execution_count": 5,
   "id": "4cf37e42",
   "metadata": {},
   "outputs": [],
   "source": [
    "soup = bs(html, \"lxml\")"
   ]
  },
  {
   "cell_type": "markdown",
   "id": "4f62ae83",
   "metadata": {},
   "source": [
    "Creating a container for the needed data"
   ]
  },
  {
   "cell_type": "code",
   "execution_count": 6,
   "id": "d2cf4fd7",
   "metadata": {},
   "outputs": [],
   "source": [
    "#containers=soup.findAll(\"div\",{\"class\":\"flex flex-grow-[2] flex-col justify-between min-h-[90px] w-[60%] px-[10px] py-0\"})\n",
    "#containers=soup.findAll(\"div\",{\"class\": \"relative min-h-[60vh] max-w-[100vw] overflow-hidden -mx-3 lg:mx-0\"})\n",
    "containers=soup.findAll(\"div\",{\"class\":\"panel-body pdn--an-imp\"})"
   ]
  },
  {
   "cell_type": "markdown",
   "id": "7e157f3b",
   "metadata": {},
   "source": [
    "Accessing page Elements:"
   ]
  },
  {
   "cell_type": "code",
   "execution_count": 7,
   "id": "55cfa852",
   "metadata": {},
   "outputs": [
    {
     "data": {
      "text/plain": [
       "15"
      ]
     },
     "execution_count": 7,
     "metadata": {},
     "output_type": "execute_result"
    }
   ],
   "source": [
    "f= open (\"store.csv\",\"w\", encoding='Utf-8')\n",
    "header= \"projects , ddd \\n\"\n",
    "f.write(header)\n",
    "\n",
    "#f.close()\n"
   ]
  },
  {
   "cell_type": "code",
   "execution_count": 12,
   "id": "86d87467",
   "metadata": {},
   "outputs": [
    {
     "name": "stdout",
     "output_type": "stream",
     "text": [
      "متجر الكتروني للايجار\n",
      "[]\n",
      "مطلوب شريك في متجر الكتروني ذوخبره كافيه\n",
      "[]\n",
      "تصميم مواقع ومتاجر اكترونية احترافية\n",
      "[]\n",
      "شركة ايلاف برو لحلول البرمجيات الحديثه\n",
      "[]\n",
      "نبحث عن مسوقات\n",
      "[]\n",
      "ابحث عن خياطة او مشغل جملة لبراند اونلاين\n",
      "[]\n",
      "انشاء متجر الكتروني\n",
      "[]\n",
      "كتاب الرقمي يضم اكثر من 11 رابط لبيع الاشتراكات ب ارخص سعر\n",
      "[]\n",
      "رقم سوا .. STC ..\n",
      "[]\n",
      "جيب بي واي دي Song Pro 2022\n",
      "[]\n",
      "مصمم شعار لوقو Logo\n",
      "[]\n",
      "التميز في عالم التسويق الالكتروني مع اوامر الشبكة\n",
      "[]\n",
      "ماسك الشعر بالارغان بزيوت طبيعية 100 500 مل\n",
      "[]\n",
      "تصفيه بضاعه متجر الكتروني\n",
      "[]\n",
      "اخدمني ديجيتال بروفايل احترافي\n",
      "[]\n",
      "متجر الكتروني\n",
      "[]\n",
      "اختر تصميم متجرك بنفسك مع اوامر الشبكة\n",
      "[]\n",
      "متجر عبايات وطرح\n",
      "[]\n",
      "حول مشروعك او فكرتك الى متجر الكتروني\n",
      "[]\n",
      "كتاب الرقمي يضم اكثر من 11 رابط لبيع الاشتراكات ب ارخص سعر\n",
      "[]\n"
     ]
    }
   ],
   "source": [
    "for container in containers:\n",
    "    \n",
    "    ptitle=container.findAll(\"h2\",{\"class\":\"overflow-hidden text-ellipsis\"})\n",
    "    product=ptitle[0].text.strip()\n",
    "    print(product)\n",
    "    \n",
    "    date=container.findAll(\"a\",\"div\",{\"class\":\"w-[50%] overflow-hidden text-ellipsis whitespace-nowrap \"})\n",
    "    #datep=date[0].text.strip()\n",
    "    print(date)\n",
    "\n",
    "    #f.write(product+\",\"+datep+\"\\n\")\n",
    "\n",
    "f.close()\n",
    "    "
   ]
  },
  {
   "cell_type": "code",
   "execution_count": 9,
   "id": "b00c32d3",
   "metadata": {},
   "outputs": [
    {
     "data": {
      "text/html": [
       "<div>\n",
       "<style scoped>\n",
       "    .dataframe tbody tr th:only-of-type {\n",
       "        vertical-align: middle;\n",
       "    }\n",
       "\n",
       "    .dataframe tbody tr th {\n",
       "        vertical-align: top;\n",
       "    }\n",
       "\n",
       "    .dataframe thead th {\n",
       "        text-align: right;\n",
       "    }\n",
       "</style>\n",
       "<table border=\"1\" class=\"dataframe\">\n",
       "  <thead>\n",
       "    <tr style=\"text-align: right;\">\n",
       "      <th></th>\n",
       "      <th>product</th>\n",
       "      <th>ddd</th>\n",
       "    </tr>\n",
       "  </thead>\n",
       "  <tbody>\n",
       "  </tbody>\n",
       "</table>\n",
       "</div>"
      ],
      "text/plain": [
       "Empty DataFrame\n",
       "Columns: [product ,  ddd ]\n",
       "Index: []"
      ]
     },
     "execution_count": 9,
     "metadata": {},
     "output_type": "execute_result"
    }
   ],
   "source": [
    "data=pd.read_csv(\"store.csv\")\n",
    "#data.sort_values(by=['job_title'],ascending=False) \n",
    "data.head()"
   ]
  },
  {
   "cell_type": "code",
   "execution_count": null,
   "id": "1f124b20",
   "metadata": {},
   "outputs": [],
   "source": []
  },
  {
   "cell_type": "code",
   "execution_count": null,
   "id": "a010dba7",
   "metadata": {},
   "outputs": [],
   "source": []
  },
  {
   "cell_type": "code",
   "execution_count": null,
   "id": "87203d0a",
   "metadata": {},
   "outputs": [],
   "source": []
  },
  {
   "cell_type": "code",
   "execution_count": null,
   "id": "89bde9ad",
   "metadata": {},
   "outputs": [],
   "source": []
  }
 ],
 "metadata": {
  "kernelspec": {
   "display_name": "Python 3",
   "language": "python",
   "name": "python3"
  },
  "language_info": {
   "codemirror_mode": {
    "name": "ipython",
    "version": 3
   },
   "file_extension": ".py",
   "mimetype": "text/x-python",
   "name": "python",
   "nbconvert_exporter": "python",
   "pygments_lexer": "ipython3",
   "version": "3.8.8"
  }
 },
 "nbformat": 4,
 "nbformat_minor": 5
}
